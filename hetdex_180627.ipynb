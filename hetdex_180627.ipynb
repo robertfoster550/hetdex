{
 "cells": [
  {
   "cell_type": "code",
   "execution_count": 1,
   "metadata": {},
   "outputs": [],
   "source": [
    "from astropy.io import fits\n",
    "from matplotlib import pyplot as plt\n",
    "% matplotlib inline\n",
    "from astropy.stats import sigma_clip\n",
    "from astropy.stats import biweight_midvariance as bimv\n",
    "from astropy.stats import biweight_location as bil\n",
    "import numpy as np\n",
    "import numpy.ma as ma"
   ]
  },
  {
   "cell_type": "code",
   "execution_count": 2,
   "metadata": {},
   "outputs": [],
   "source": [
    "def poi(file,field_sigma=3,iterations=5,column_sigma=5):\n",
    "    im = fits.getdata(file)\n",
    "    scim = sigma_clip(im, sigma=field_sigma, iters=iterations)\n",
    "    \n",
    "    for i in range(1052):\n",
    "        mean=bil(scim[:,i])\n",
    "        sig=np.sqrt(bimv(scim[:,i]))\n",
    "        out=ma.where(scim[:,i]>(mean+column_sigma*sig))[0]\n",
    "        if out.size:\n",
    "            for j in range(len(out)):\n",
    "                print((i+1,out[j]+1))"
   ]
  },
  {
   "cell_type": "code",
   "execution_count": 3,
   "metadata": {},
   "outputs": [
    {
     "name": "stderr",
     "output_type": "stream",
     "text": [
      "/home/rfoster/.local/lib/python3.5/site-packages/astropy/stats/biweight.py:362: RuntimeWarning: invalid value encountered in double_scalars\n",
      "  return n * f1 / f2\n"
     ]
    },
    {
     "name": "stdout",
     "output_type": "stream",
     "text": [
      "(20, 175)\n",
      "(43, 3)\n",
      "(44, 3)\n",
      "(50, 196)\n",
      "(51, 196)\n",
      "(54, 52)\n",
      "(55, 52)\n",
      "(58, 127)\n",
      "(58, 142)\n",
      "(59, 142)\n",
      "(62, 146)\n",
      "(63, 146)\n",
      "(64, 146)\n",
      "(64, 175)\n",
      "(67, 175)\n",
      "(84, 217)\n",
      "(85, 217)\n",
      "(86, 154)\n",
      "(96, 94)\n",
      "(97, 94)\n",
      "(100, 84)\n",
      "(100, 172)\n",
      "(103, 27)\n",
      "(121, 221)\n",
      "(122, 221)\n",
      "(136, 214)\n",
      "(145, 51)\n",
      "(146, 51)\n",
      "(152, 99)\n",
      "(158, 154)\n",
      "(159, 206)\n",
      "(160, 88)\n",
      "(160, 206)\n",
      "(256, 223)\n",
      "(262, 33)\n",
      "(279, 119)\n",
      "(323, 133)\n",
      "(339, 144)\n",
      "(340, 43)\n",
      "(365, 149)\n",
      "(371, 138)\n",
      "(373, 211)\n",
      "(385, 154)\n",
      "(396, 68)\n",
      "(403, 150)\n",
      "(415, 93)\n",
      "(416, 40)\n",
      "(416, 211)\n",
      "(417, 40)\n",
      "(418, 211)\n",
      "(420, 116)\n",
      "(444, 12)\n",
      "(511, 193)\n",
      "(517, 36)\n",
      "(526, 139)\n",
      "(575, 155)\n",
      "(575, 160)\n",
      "(584, 112)\n",
      "(592, 121)\n",
      "(599, 10)\n",
      "(600, 10)\n",
      "(603, 84)\n",
      "(607, 146)\n",
      "(608, 146)\n",
      "(633, 130)\n",
      "(634, 130)\n",
      "(640, 7)\n",
      "(644, 198)\n",
      "(658, 206)\n",
      "(662, 132)\n",
      "(666, 215)\n",
      "(667, 215)\n",
      "(672, 75)\n",
      "(673, 75)\n",
      "(683, 9)\n",
      "(684, 9)\n",
      "(691, 100)\n",
      "(692, 17)\n",
      "(692, 100)\n",
      "(730, 90)\n",
      "(751, 120)\n",
      "(754, 73)\n",
      "(755, 73)\n",
      "(762, 63)\n",
      "(783, 87)\n",
      "(793, 49)\n",
      "(799, 75)\n",
      "(815, 7)\n",
      "(822, 66)\n",
      "(852, 192)\n",
      "(855, 92)\n",
      "(856, 92)\n",
      "(857, 92)\n",
      "(882, 170)\n",
      "(885, 170)\n",
      "(887, 16)\n",
      "(888, 177)\n",
      "(889, 16)\n",
      "(889, 61)\n",
      "(889, 177)\n",
      "(890, 61)\n",
      "(890, 177)\n",
      "(894, 151)\n",
      "(895, 151)\n",
      "(900, 6)\n",
      "(917, 17)\n",
      "(942, 52)\n",
      "(943, 52)\n",
      "(944, 52)\n",
      "(945, 52)\n",
      "(946, 52)\n",
      "(947, 52)\n",
      "(947, 198)\n",
      "(957, 167)\n",
      "(958, 167)\n",
      "(960, 181)\n",
      "(961, 181)\n",
      "(964, 12)\n",
      "(965, 112)\n",
      "(967, 112)\n",
      "(974, 168)\n",
      "(987, 207)\n",
      "(989, 207)\n",
      "(1008, 95)\n",
      "(1009, 95)\n",
      "(1013, 2)\n",
      "(1036, 154)\n",
      "(1038, 191)\n",
      "(1040, 191)\n"
     ]
    }
   ],
   "source": [
    "poi(\"Fepdsses20180219T070215.4_084_sci_L.fits\")"
   ]
  },
  {
   "cell_type": "code",
   "execution_count": 13,
   "metadata": {},
   "outputs": [
    {
     "name": "stdout",
     "output_type": "stream",
     "text": [
      "Filename: Fepdsses20180219T070215.4_074_sci_L.fits\n",
      "No.    Name      Ver    Type      Cards   Dimensions   Format\n",
      "  0  PRIMARY       1 PrimaryHDU     178   (1052, 224)   float32   \n"
     ]
    }
   ],
   "source": [
    "hdulist=fits.open('Fepdsses20180219T070215.4_074_sci_L.fits')\n",
    "hdulist.info()"
   ]
  },
  {
   "cell_type": "code",
   "execution_count": 4,
   "metadata": {},
   "outputs": [
    {
     "data": {
      "text/plain": [
       "masked_array(data =\n",
       " [[50.593353271484375 51.281089782714844 51.11017990112305 ...,\n",
       "  199.38771057128906 205.89305114746094 185.87200927734375]\n",
       " [47.589908599853516 39.08842849731445 55.256893157958984 ...,\n",
       "  203.37203979492188 174.2888641357422 195.90988159179688]\n",
       " [46.1401252746582 58.01241683959961 43.99723815917969 ...,\n",
       "  170.28915405273438 163.661376953125 165.2137908935547]\n",
       " ..., \n",
       " [-- -- 43.42656326293945 ..., -- -- --]\n",
       " [50.529685974121094 52.70515441894531 40.46371841430664 ..., -- -- --]\n",
       " [40.76495361328125 50.553001403808594 56.08503723144531 ..., -- -- --]],\n",
       "             mask =\n",
       " [[False False False ..., False False False]\n",
       " [False False False ..., False False False]\n",
       " [False False False ..., False False False]\n",
       " ..., \n",
       " [ True  True False ...,  True  True  True]\n",
       " [False False False ...,  True  True  True]\n",
       " [False False False ...,  True  True  True]],\n",
       "       fill_value = 1e+20)"
      ]
     },
     "execution_count": 4,
     "metadata": {},
     "output_type": "execute_result"
    }
   ],
   "source": [
    "sigma_clip(fits.getdata(\"Fepdsses20180219T070215.4_084_sci_L.fits\"))"
   ]
  },
  {
   "cell_type": "code",
   "execution_count": 8,
   "metadata": {},
   "outputs": [],
   "source": [
    "sig=sigma_clip(fits.getdata(\"Fepdsses20180219T070215.4_084_sci_L.fits\"))\n",
    "out=np.mean(sig[],axis=1)"
   ]
  },
  {
   "cell_type": "code",
   "execution_count": 9,
   "metadata": {},
   "outputs": [
    {
     "data": {
      "text/plain": [
       "[<matplotlib.lines.Line2D at 0x7f097890c0b8>]"
      ]
     },
     "execution_count": 9,
     "metadata": {},
     "output_type": "execute_result"
    },
    {
     "data": {
      "image/png": "[encoded data removed]",
      "text/plain": [
       "<matplotlib.figure.Figure at 0x7f099c57d208>"
      ]
     },
     "metadata": {},
     "output_type": "display_data"
    }
   ],
   "source": [
    "plt.plot(out)"
   ]
  },
  {
   "cell_type": "code",
   "execution_count": null,
   "metadata": {},
   "outputs": [],
   "source": []
  }
 ],
 "metadata": {
  "kernelspec": {
   "display_name": "Python 3",
   "language": "python",
   "name": "python3"
  },
  "language_info": {
   "codemirror_mode": {
    "name": "ipython",
    "version": 3
   },
   "file_extension": ".py",
   "mimetype": "text/x-python",
   "name": "python",
   "nbconvert_exporter": "python",
   "pygments_lexer": "ipython3",
   "version": "3.5.2"
  }
 },
 "nbformat": 4,
 "nbformat_minor": 2
}
