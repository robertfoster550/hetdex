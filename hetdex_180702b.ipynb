{
 "cells": [
  {
   "cell_type": "code",
   "execution_count": 76,
   "metadata": {},
   "outputs": [],
   "source": [
    "from astropy.io import fits\n",
    "from matplotlib import pyplot as plt\n",
    "% matplotlib inline\n",
    "from astropy.stats import sigma_clip\n",
    "from astropy.stats import biweight_midvariance as bimv\n",
    "from astropy.stats import biweight_location as bil\n",
    "import numpy as np\n",
    "import numpy.ma as ma\n",
    "import scipy as sp\n",
    "from scipy import signal\n",
    "import operator\n",
    "from scipy.interpolate import UnivariateSpline\n",
    "from scipy.interpolate import splprep, splev\n",
    "from collections import Counter"
   ]
  },
  {
   "cell_type": "code",
   "execution_count": 91,
   "metadata": {},
   "outputs": [],
   "source": [
    "def medpoly(file, kappa=3, iterations=5, sigma=2, poly=4):\n",
    "    im = fits.getdata(file)\n",
    "    sc = sigma_clip(im, sigma=kappa, iters=iterations)\n",
    "    medfilt=sp.signal.medfilt(sc)\n",
    "    rows = ma.mean(medfilt,axis=1)\n",
    "    y = list(range(len(rows)))\n",
    "    values=[]\n",
    "    \n",
    "    for j in range(poly,poly+10):\n",
    "        medpoly = np.poly1d(np.polyfit(y,rows,j))\n",
    "        flattened = rows - medpoly(y)\n",
    "\n",
    "        for i in range(len(rows)):\n",
    "            mean = ma.mean(flattened)\n",
    "            sig = ma.std(flattened)\n",
    "            out = ma.where(flattened[i]>(mean+sigma*sig))[0]\n",
    "            if out.size:\n",
    "                values.append(i)\n",
    "                \n",
    "    print(Counter(values))"
   ]
  },
  {
   "cell_type": "code",
   "execution_count": 93,
   "metadata": {},
   "outputs": [
    {
     "name": "stdout",
     "output_type": "stream",
     "text": [
      "Counter({149: 10, 63: 10, 182: 9, 150: 9, 62: 9, 151: 8, 64: 7, 65: 7, 61: 4, 1: 2, 113: 2, 2: 1, 183: 1, 221: 1, 220: 1})\n",
      "Counter({150: 10, 151: 10, 149: 10, 61: 5, 62: 4, 1: 2, 5: 2, 2: 1, 4: 1, 221: 1})\n",
      "Counter({149: 10, 150: 10, 151: 10, 113: 8, 61: 5, 62: 5, 112: 4, 1: 2, 2: 2, 63: 2, 182: 1, 221: 1})\n"
     ]
    }
   ],
   "source": [
    "medpoly('Fepdsses20180219T072418.2_084_sci_L.fits')\n",
    "medpoly('Fepdsses20180219T070215.4_084_sci_L.fits')\n",
    "medpoly('Fepdsses20180219T071318.8_084_sci_L.fits')"
   ]
  },
  {
   "cell_type": "code",
   "execution_count": 105,
   "metadata": {},
   "outputs": [],
   "source": [
    "def polymedpoly(file, kappa=3, iterations=5, sigma=2, poly=4, length=10):\n",
    "    \n",
    "    values=[]\n",
    "    \n",
    "    for k in file:\n",
    "        im = fits.getdata(k)\n",
    "        sc = sigma_clip(im, sigma=kappa, iters=iterations)\n",
    "        medfilt=sp.signal.medfilt(sc)\n",
    "        rows = ma.mean(medfilt,axis=1)\n",
    "        y = list(range(len(rows)))\n",
    "\n",
    "        for j in range(poly,poly+length):\n",
    "            medpoly = np.poly1d(np.polyfit(y,rows,j))\n",
    "            flattened = rows - medpoly(y)\n",
    "\n",
    "            for i in range(len(rows)):\n",
    "                mean = ma.mean(flattened)\n",
    "                sig = ma.std(flattened)\n",
    "                out = ma.where(flattened[i]>(mean+sigma*sig))[0]\n",
    "                if out.size:\n",
    "                    values.append(i)\n",
    "\n",
    "    print(Counter(values))"
   ]
  },
  {
   "cell_type": "code",
   "execution_count": 121,
   "metadata": {},
   "outputs": [
    {
     "name": "stdout",
     "output_type": "stream",
     "text": [
      "Counter({149: 30, 150: 29, 151: 28, 62: 18, 61: 14, 63: 12, 182: 10, 113: 10, 64: 7, 65: 7, 1: 6, 2: 4, 112: 4, 221: 3, 5: 2, 4: 1, 183: 1, 220: 1})\n"
     ]
    }
   ],
   "source": [
    "files=['Fepdsses20180219T072418.2_084_sci_L.fits',\n",
    "       'Fepdsses20180219T070215.4_084_sci_L.fits',\n",
    "       'Fepdsses20180219T071318.8_084_sci_L.fits']\n",
    "polymedpoly(files)"
   ]
  },
  {
   "cell_type": "code",
   "execution_count": null,
   "metadata": {},
   "outputs": [],
   "source": []
  }
 ],
 "metadata": {
  "kernelspec": {
   "display_name": "Python 3",
   "language": "python",
   "name": "python3"
  },
  "language_info": {
   "codemirror_mode": {
    "name": "ipython",
    "version": 3
   },
   "file_extension": ".py",
   "mimetype": "text/x-python",
   "name": "python",
   "nbconvert_exporter": "python",
   "pygments_lexer": "ipython3",
   "version": "3.5.2"
  }
 },
 "nbformat": 4,
 "nbformat_minor": 2
}
